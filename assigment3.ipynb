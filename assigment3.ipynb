{
 "cells": [
  {
   "cell_type": "markdown",
   "id": "d100f230-2c34-4343-8e4e-35c21734cafa",
   "metadata": {},
   "source": [
    "# Q1. Which keyword is used to create a function? Create a function to return a list of odd numbers in the range of 1 to 25.\n",
    "\n",
    "### sol :\"def\" keyword is used to create a function in python\n",
    "\n"
   ]
  },
  {
   "cell_type": "code",
   "execution_count": 8,
   "id": "cf2b69d8-6539-462d-9d05-2c868efd6070",
   "metadata": {},
   "outputs": [
    {
     "data": {
      "text/plain": [
       "[1, 3, 5, 7, 9, 11, 13, 15, 17, 19, 21, 23]"
      ]
     },
     "execution_count": 8,
     "metadata": {},
     "output_type": "execute_result"
    }
   ],
   "source": [
    "# creating a function to retrun odd numbers in range of 1-25\n",
    "def func(): #'func()'is a function \n",
    "    l1=[] #creating a list\n",
    "    for i in range(1,25):\n",
    "        if i%2!=0:\n",
    "            l1.append(i)\n",
    "    return l1\n",
    "func()#calling a function"
   ]
  },
  {
   "cell_type": "markdown",
   "id": "8686d192-806e-42b5-b1a3-e10f36a201a3",
   "metadata": {},
   "source": [
    "# Q2. Why *args and **kwargs is used in some functions? Create a function each for *args and **kwargs to demonstrate their use"
   ]
  },
  {
   "cell_type": "code",
   "execution_count": 11,
   "id": "e44e07ef-f670-4191-98db-d255c2389267",
   "metadata": {},
   "outputs": [
    {
     "data": {
      "text/plain": [
       "68"
      ]
     },
     "execution_count": 11,
     "metadata": {},
     "output_type": "execute_result"
    }
   ],
   "source": [
    "# *args\n",
    "# we usally creat a func because we want  to resude  the code to perform similar operation\n",
    "# we invoke a func with a certain value, hence that value is know as \"arguments\"\n",
    "\n",
    "def func1(x,y,z):\n",
    "    return x+y+z # here we know 3 arguments are required so we give 3 values\n",
    "func1(1,23,44)"
   ]
  },
  {
   "cell_type": "code",
   "execution_count": 2,
   "id": "f4d2fd2e-337a-4bac-b233-a89e44cd1d12",
   "metadata": {},
   "outputs": [
    {
     "data": {
      "text/plain": [
       "60"
      ]
     },
     "execution_count": 2,
     "metadata": {},
     "output_type": "execute_result"
    }
   ],
   "source": [
    "def func2(*num): #here we createrd *args type arguments\n",
    "    sum=0\n",
    "    for i in num:\n",
    "        sum=sum+i\n",
    "    return sum\n",
    "func2(11,2,3,44) #hese we send random no of values"
   ]
  },
  {
   "cell_type": "code",
   "execution_count": 3,
   "id": "c544887e-1914-401d-b289-73bd0beebe18",
   "metadata": {},
   "outputs": [
    {
     "name": "stdout",
     "output_type": "stream",
     "text": [
      "firstname is darsnan\n",
      "sec_name is darshana\n"
     ]
    }
   ],
   "source": [
    "def intro(**data): #by default it creats a dictnoary typr\n",
    "    for key, value in data.items():\n",
    "        print(\"{} is {}\".format(key,value))\n",
    "intro(firstname=\"darsnan\",sec_name=\"darshana\")"
   ]
  },
  {
   "cell_type": "markdown",
   "id": "82dcb542-90f4-4e27-b330-8906a5884418",
   "metadata": {},
   "source": [
    "#  Q3 What is an iterator in python? Name the method used to initialise the iterator object and the method used for iteration. Use these methods to print the first five elements of the given list [2, 4, 6, 8, 10, 12, 14, 16, 18,20]"
   ]
  },
  {
   "cell_type": "code",
   "execution_count": 4,
   "id": "7cdc9902-379a-4e66-966f-b655f4d1bd88",
   "metadata": {},
   "outputs": [
    {
     "name": "stdout",
     "output_type": "stream",
     "text": [
      "2\n",
      "4\n",
      "6\n",
      "8\n",
      "10\n",
      "12\n",
      "14\n",
      "16\n",
      "18\n",
      "20\n"
     ]
    }
   ],
   "source": [
    "# lists, tuples, dictionaries, and sets  are  called iterator because we can iterate through them\n",
    "#An iterator is an object that contains a countable number of values.\n",
    "\n",
    "#by using 'for loop' we can itrate through the iterator\n",
    "\n",
    "list1=[2, 4, 6, 8, 10, 12, 14, 16, 18,20]\n",
    "for i in list1: #we use 'for lop' for itertaion\n",
    "    print(i) "
   ]
  },
  {
   "cell_type": "markdown",
   "id": "88207fbb-179b-4abd-9f8f-3b81a23814a4",
   "metadata": {},
   "source": [
    "# Q4 What is a generator function in python? Why yield keyword is used? Give an example of a generator function."
   ]
  },
  {
   "cell_type": "code",
   "execution_count": null,
   "id": "22efc07f-e651-4988-8a0c-078f79d63e99",
   "metadata": {},
   "outputs": [],
   "source": [
    "# here we can compare the 'generator'with the 'range func 'and 'yield key word' wuth 'return key word'\n",
    "\n",
    "#generator : it helps to iterator in a single function and it saves the main memory generator usually \n",
    "#yield : , it returns a generator object instead of values"
   ]
  },
  {
   "cell_type": "markdown",
   "id": "5624dc1c-af4e-4c03-87a4-b47606c502a3",
   "metadata": {},
   "source": [
    "# Q5. Create a generator function for prime numbers less than 1000. Use the next() method to print the first 20 prime numbers."
   ]
  },
  {
   "cell_type": "code",
   "execution_count": 25,
   "id": "b8b072b7-6b0a-41c4-b582-8a01af9127db",
   "metadata": {},
   "outputs": [
    {
     "ename": "NameError",
     "evalue": "name 'x' is not defined",
     "output_type": "error",
     "traceback": [
      "\u001b[0;31m---------------------------------------------------------------------------\u001b[0m",
      "\u001b[0;31mNameError\u001b[0m                                 Traceback (most recent call last)",
      "Cell \u001b[0;32mIn[25], line 5\u001b[0m\n\u001b[1;32m      3\u001b[0m list1\u001b[38;5;241m=\u001b[39m[\u001b[38;5;28;01mlambda\u001b[39;00m x: \u001b[38;5;28mrange\u001b[39m(\u001b[38;5;241m1\u001b[39m,\u001b[38;5;241m21\u001b[39m)]\n\u001b[1;32m      4\u001b[0m \u001b[38;5;28;01mfor\u001b[39;00m i \u001b[38;5;129;01min\u001b[39;00m list1:\u001b[38;5;66;03m#here we did this because 1 is universal divisor so we start with 2 and end 'num-1'\u001b[39;00m\n\u001b[0;32m----> 5\u001b[0m     \u001b[38;5;28;01mif\u001b[39;00m \u001b[43mx\u001b[49m\u001b[38;5;241m%\u001b[39mi\u001b[38;5;241m==\u001b[39m\u001b[38;5;241m0\u001b[39m:\n\u001b[1;32m      6\u001b[0m         \u001b[38;5;28mprint\u001b[39m(\u001b[38;5;124m\"\u001b[39m\u001b[38;5;124mNOT PRIME \u001b[39m\u001b[38;5;124m\"\u001b[39m)\n\u001b[1;32m      7\u001b[0m \u001b[38;5;28;01melse\u001b[39;00m:\n",
      "\u001b[0;31mNameError\u001b[0m: name 'x' is not defined"
     ]
    }
   ],
   "source": [
    "def getPrimes(n):\n",
    "    lst1=[]\n",
    "list1=[lambda x: range(1,21)]\n",
    "for x in range(len(list1)):\n",
    "    \n",
    "for i in list1:#here we did this because 1 is universal divisor so we start with 2 and end 'num-1'\n",
    "    if x%i==0:\n",
    "        print(\"NOT PRIME \")\n",
    "else:\n",
    "    lst1.append(i)\n",
    "      \n",
    "    print(list(lst1))\n",
    "getPrimes(9)\n"
   ]
  },
  {
   "cell_type": "code",
   "execution_count": null,
   "id": "3c3c1a60-e539-4793-b1b1-00755236d2a8",
   "metadata": {},
   "outputs": [],
   "source": []
  },
  {
   "cell_type": "code",
   "execution_count": null,
   "id": "1a846676-a67c-4fa4-b8eb-9d32d79bd463",
   "metadata": {},
   "outputs": [],
   "source": []
  }
 ],
 "metadata": {
  "kernelspec": {
   "display_name": "Python 3 (ipykernel)",
   "language": "python",
   "name": "python3"
  },
  "language_info": {
   "codemirror_mode": {
    "name": "ipython",
    "version": 3
   },
   "file_extension": ".py",
   "mimetype": "text/x-python",
   "name": "python",
   "nbconvert_exporter": "python",
   "pygments_lexer": "ipython3",
   "version": "3.10.8"
  }
 },
 "nbformat": 4,
 "nbformat_minor": 5
}
